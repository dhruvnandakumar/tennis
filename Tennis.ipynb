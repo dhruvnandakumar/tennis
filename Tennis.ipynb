{
 "cells": [
  {
   "cell_type": "markdown",
   "metadata": {},
   "source": [
    "# Collaboration and Competition\n",
    "\n",
    "---\n",
    "\n",
    "You are welcome to use this coding environment to train your agent for the project.  Follow the instructions below to get started!\n",
    "\n",
    "### 1. Start the Environment\n",
    "\n",
    "Run the next code cell to install a few packages.  This line will take a few minutes to run!"
   ]
  },
  {
   "cell_type": "code",
   "execution_count": 1,
   "metadata": {},
   "outputs": [
    {
     "name": "stdout",
     "output_type": "stream",
     "text": [
      "\u001b[31mtensorflow 1.7.1 has requirement numpy>=1.13.3, but you'll have numpy 1.12.1 which is incompatible.\u001b[0m\r\n",
      "\u001b[31mipython 6.5.0 has requirement prompt-toolkit<2.0.0,>=1.0.15, but you'll have prompt-toolkit 3.0.18 which is incompatible.\u001b[0m\r\n"
     ]
    }
   ],
   "source": [
    "!pip -q install ./python"
   ]
  },
  {
   "cell_type": "markdown",
   "metadata": {},
   "source": [
    "The environment is already saved in the Workspace and can be accessed at the file path provided below. "
   ]
  },
  {
   "cell_type": "code",
   "execution_count": 2,
   "metadata": {},
   "outputs": [
    {
     "name": "stderr",
     "output_type": "stream",
     "text": [
      "INFO:unityagents:\n",
      "'Academy' started successfully!\n",
      "Unity Academy name: Academy\n",
      "        Number of Brains: 1\n",
      "        Number of External Brains : 1\n",
      "        Lesson number : 0\n",
      "        Reset Parameters :\n",
      "\t\t\n",
      "Unity brain name: TennisBrain\n",
      "        Number of Visual Observations (per agent): 0\n",
      "        Vector Observation space type: continuous\n",
      "        Vector Observation space size (per agent): 8\n",
      "        Number of stacked Vector Observation: 3\n",
      "        Vector Action space type: continuous\n",
      "        Vector Action space size (per agent): 2\n",
      "        Vector Action descriptions: , \n"
     ]
    }
   ],
   "source": [
    "from unityagents import UnityEnvironment\n",
    "import numpy as np\n",
    "\n",
    "env = UnityEnvironment(file_name=\"/data/Tennis_Linux_NoVis/Tennis\")"
   ]
  },
  {
   "cell_type": "markdown",
   "metadata": {},
   "source": [
    "Environments contain **_brains_** which are responsible for deciding the actions of their associated agents. Here we check for the first brain available, and set it as the default brain we will be controlling from Python."
   ]
  },
  {
   "cell_type": "code",
   "execution_count": 3,
   "metadata": {},
   "outputs": [],
   "source": [
    "# get the default brain\n",
    "brain_name = env.brain_names[0]\n",
    "brain = env.brains[brain_name]"
   ]
  },
  {
   "cell_type": "markdown",
   "metadata": {},
   "source": [
    "### 2. Examine the State and Action Spaces\n",
    "\n",
    "Run the code cell below to print some information about the environment."
   ]
  },
  {
   "cell_type": "code",
   "execution_count": 4,
   "metadata": {},
   "outputs": [
    {
     "name": "stdout",
     "output_type": "stream",
     "text": [
      "Number of agents: 2\n",
      "Size of each action: 2\n",
      "There are 2 agents. Each observes a state with length: 24\n",
      "The state for the first agent looks like: [ 0.          0.          0.          0.          0.          0.          0.\n",
      "  0.          0.          0.          0.          0.          0.          0.\n",
      "  0.          0.         -6.65278625 -1.5        -0.          0.\n",
      "  6.83172083  6.         -0.          0.        ]\n"
     ]
    }
   ],
   "source": [
    "# reset the environment\n",
    "env_info = env.reset(train_mode=True)[brain_name]\n",
    "\n",
    "# number of agents \n",
    "num_agents = len(env_info.agents)\n",
    "print('Number of agents:', num_agents)\n",
    "\n",
    "# size of each action\n",
    "action_size = brain.vector_action_space_size\n",
    "print('Size of each action:', action_size)\n",
    "\n",
    "# examine the state space \n",
    "states = env_info.vector_observations\n",
    "state_size = states.shape[1]\n",
    "print('There are {} agents. Each observes a state with length: {}'.format(states.shape[0], state_size))\n",
    "print('The state for the first agent looks like:', states[0])"
   ]
  },
  {
   "cell_type": "markdown",
   "metadata": {},
   "source": [
    "### 3. The Learning Algorithm\n",
    "\n",
    "The algorithm used in this repository is an implementation of MultipleAgentDDPG (MADDPG), which allows for the trianing of two individual agents, one for each racket in this case, but trains them from a shared replay buffer. Each DDPG agent is implemented using an actor-critic methodology. The Actor suggests an action based on current state, but the critic during training can see the whole state of the board including the state of the other agent to estimate the action value chosen by the Actor. \n",
    "\n",
    "Due to the overlap between both agents, I have chosen to reuse code in the continuous control repository to instantiate each agent individually. I will then create a thrid class that controls the training of both agents  memory through a replay buffer, for which I will, again, reuse code. \n",
    "\n",
    "Please see https://github.com/dhruvnandakumar/actor-critic for code sources"
   ]
  },
  {
   "cell_type": "markdown",
   "metadata": {},
   "source": [
    "### 4. Instantiating the DDPG Agents and Models "
   ]
  },
  {
   "cell_type": "code",
   "execution_count": 5,
   "metadata": {},
   "outputs": [],
   "source": [
    "hyperparameters = {\n",
    "            \"buffer_size\":int(1e5),\n",
    "            \"batch_size\":128,\n",
    "            \"gamma\":0.99,\n",
    "            \"tau\":1e-3,\n",
    "            \"lr_actor\":2e-4,\n",
    "            \"lr_critic\":2e-4,\n",
    "            \"weight_decay\": 0, \n",
    "            \"epsilon\": 1,\n",
    "            \"epsilon_decay\": 0.99\n",
    "        }"
   ]
  },
  {
   "cell_type": "code",
   "execution_count": 6,
   "metadata": {},
   "outputs": [],
   "source": [
    "import numpy as np\n",
    "\n",
    "import torch\n",
    "import torch.nn as nn\n",
    "import torch.nn.functional as F\n",
    "\n",
    "def hidden_init(layer):\n",
    "    fan_in = layer.weight.data.size()[0]\n",
    "    lim = 1. / np.sqrt(fan_in)\n",
    "    return (-lim, lim)\n",
    "\n",
    "class Actor(nn.Module):\n",
    "    \n",
    "    def __init__(self, state_size, action_size, seed, hidden_size=128, hidden_size2=256):\n",
    "        \n",
    "        super(Actor, self).__init__()\n",
    "        self.seed = torch.manual_seed(seed)\n",
    "        self.fc1 = nn.Linear(state_size, hidden_size)\n",
    "        self.bn = nn.BatchNorm1d(hidden_size)\n",
    "        self.fc2 = nn.Linear(hidden_size, hidden_size2) \n",
    "        self.fc3 = nn.Linear(hidden_size2, action_size)\n",
    "        self.set_weights()\n",
    "        \n",
    "    def set_weights(self):\n",
    "        self.fc1.weight.data.uniform_(*hidden_init(self.fc1))\n",
    "        self.fc2.weight.data.uniform_(*hidden_init(self.fc2))\n",
    "        self.fc3.weight.data.uniform_(-3e-3, 3e-3)\n",
    "        \n",
    "    def forward(self, state):\n",
    "        if state.dim() == 1:\n",
    "            state = torch.unsqueeze(state,0)\n",
    "        \n",
    "        out = F.relu(self.fc1(state))\n",
    "        out = self.bn(out)\n",
    "        out = F.relu(self.fc2(out))\n",
    "        return F.tanh(self.fc3(out))\n",
    "    \n",
    "class Critic(nn.Module):\n",
    "    \n",
    "    def __init__(self, state_size, action_size, seed, hidden_size=128, hidden_size2=128):\n",
    "        \n",
    "        super(Critic, self).__init__()\n",
    "        self.seed = torch.manual_seed(seed)\n",
    "        self.fc1 = nn.Linear(state_size, hidden_size)\n",
    "        self.bn = nn.BatchNorm1d(hidden_size)\n",
    "        self.fc2 = nn.Linear(hidden_size+(action_size), hidden_size2)\n",
    "        self.fc3 = nn.Linear(hidden_size2, 1)\n",
    "        self.set_weights() \n",
    "        \n",
    "    def set_weights(self):\n",
    "        self.fc1.weight.data.uniform_(*hidden_init(self.fc1))\n",
    "        self.fc2.weight.data.uniform_(*hidden_init(self.fc2))\n",
    "        self.fc3.weight.data.uniform_(-3e-3, 3e-3)\n",
    "        \n",
    "    def forward(self, state, action):\n",
    "        if state.dim == 1:\n",
    "            state = torch.unsqueeze(state, 0)\n",
    "        \n",
    "        out1 = F.relu(self.fc1(state))\n",
    "        out1 = self.bn(out1)\n",
    "        out = torch.cat((out1, action), dim=1)\n",
    "        out = F.relu(self.fc2(out))\n",
    "        return self.fc3(out)"
   ]
  },
  {
   "cell_type": "code",
   "execution_count": 7,
   "metadata": {},
   "outputs": [],
   "source": [
    "import numpy as np\n",
    "import random\n",
    "import copy\n",
    "import os\n",
    "from collections import namedtuple, deque\n",
    "\n",
    "# from model import Actor, Critic\n",
    "\n",
    "import torch\n",
    "import torch.nn.functional as F\n",
    "import torch.optim as optim\n",
    "\n",
    "device = torch.device(\"cuda:0\" if torch.cuda.is_available() else \"cpu\")\n",
    "\n",
    "class Agent():\n",
    "    \n",
    "    def __init__(self, state_size, action_size, seed, hparams, identity):\n",
    "        self.state_size = state_size\n",
    "        self.action_size = action_size\n",
    "        self.seed = random.seed(seed) \n",
    "        self.hparams = hparams\n",
    "        self.identity = identity\n",
    "        \n",
    "        self.actor_local = Actor(state_size, action_size, seed).to(device)\n",
    "        self.actor_target = Actor(state_size, action_size, seed).to(device)\n",
    "        self.actor_optimizer = optim.Adam(self.actor_local.parameters(), lr=self.hparams[\"lr_actor\"])\n",
    "        \n",
    "        for target_param, source_param in zip(self.actor_target.parameters(), self.actor_local.parameters()):\n",
    "            target_param.data.copy_(source_param.data)\n",
    "        \n",
    "        self.critic_local = Critic(state_size, action_size, seed).to(device)\n",
    "        self.critic_target = Critic(state_size, action_size, seed).to(device)\n",
    "        self.critic_optimizer = optim.Adam(self.critic_local.parameters(), lr=self.hparams[\"lr_critic\"], weight_decay=self.hparams[\"weight_decay\"])\n",
    "        \n",
    "        for target_param, source_param in zip(self.critic_target.parameters(), self.critic_local.parameters()):\n",
    "            target_param.data.copy_(source_param.data)\n",
    "        \n",
    "        \n",
    "        #Controller will handle shared memory\n",
    "        self.memory = ReplayBuffer(action_size, self.hparams[\"buffer_size\"], self.hparams[\"batch_size\"], seed)\n",
    "        self.noise = OUNoise(action_size, seed)\n",
    "       \n",
    "        \n",
    "    def act(self, states, add_noise=True):\n",
    "        \"\"\"Returns actions for given state as per current policy.\"\"\"\n",
    "        \n",
    "        #Controller will handle concatenating the actions from each agent\n",
    "        if not torch.is_tensor(states):\n",
    "            states = torch.from_numpy(states).float().to(device)\n",
    "            \n",
    "        self.actor_local.eval()\n",
    "        with torch.no_grad():\n",
    "                action = self.actor_local(states).cpu().data.numpy()\n",
    "        self.actor_local.train()\n",
    "        if add_noise:\n",
    "            action += self.noise.sample() * self.hparams['epsilon']\n",
    "        return np.clip(action, -1, 1)\n",
    "    \n",
    "    # Handle step in controller\n",
    "    def step(self, states, actions, rewards, next_states, dones, ep):\n",
    "        self.memory.add(states, actions, rewards, next_states, dones)\n",
    "        \n",
    "        if len(self.memory) > self.hparams[\"batch_size\"] and ep % 5 == 0 and ep > 100:\n",
    "            for _ in range(4):\n",
    "                experiences = self.memory.sample()\n",
    "                self.learn(experiences)\n",
    "                    \n",
    "    \n",
    "    def learn(self, experiences):\n",
    "        \n",
    "        states, actions, rewards, next_states, dones = experiences\n",
    "\n",
    "        # ---------------------------- update critic ---------------------------- #\n",
    "        # Get predicted next-state actions and Q values from target models\n",
    "        actions_next = self.actor_target(next_states)\n",
    "        Q_targets_next = self.critic_target(next_states, actions_next)\n",
    "        # Compute Q targets for current states (y_i)\n",
    "        Q_targets = rewards + (self.hparams[\"gamma\"] * Q_targets_next * (1 - dones))\n",
    "        # Compute critic loss\n",
    "        Q_expected = self.critic_local(states, actions)\n",
    "        critic_loss = F.mse_loss(Q_expected, Q_targets)\n",
    "        # Minimize the loss\n",
    "        self.critic_optimizer.zero_grad()\n",
    "        critic_loss.backward()\n",
    "        self.critic_optimizer.step()\n",
    "\n",
    "        # ---------------------------- update actor ---------------------------- #\n",
    "        # Compute actor loss\n",
    "        actions_pred = self.actor_local(states)\n",
    "        actor_loss = -self.critic_local(states, actions_pred).mean()\n",
    "        # Minimize the loss\n",
    "        self.actor_optimizer.zero_grad()\n",
    "        actor_loss.backward()\n",
    "        self.actor_optimizer.step()\n",
    "\n",
    "        # ----------------------- update target networks ----------------------- #\n",
    "        self.soft_update(self.critic_local, self.critic_target)\n",
    "        self.soft_update(self.actor_local, self.actor_target)\n",
    "        \n",
    "        self.hparams['epsilon'] *= self.hparams['epsilon_decay']\n",
    "    \n",
    "    def reset(self):\n",
    "        self.noise.reset()    \n",
    "        \n",
    "    def soft_update(self, local_model, target_model):\n",
    "        for target_param, local_param in zip(target_model.parameters(), local_model.parameters()):\n",
    "            target_param.data.copy_(self.hparams[\"tau\"]*local_param.data + (1.0-self.hparams[\"tau\"])*target_param.data)\n",
    "            \n",
    "    def print_models(self):\n",
    "        print(\"Agent \", str(self.identity), \" \", self.actor_local)\n",
    "        print(\"Agent \", str(self.identity), \" \", self.critic_local)\n",
    "        \n",
    "    def save_models(self):\n",
    "        torch.save(self.actor_local.state_dict(), str(self.identity) + \"_actor_weights.pth\")\n",
    "        torch.save(self.critic_local.state_dict(), str(self.identity) + \"_critic_weights.pth\")\n",
    "        \n",
    "    \n",
    "\n",
    "\n",
    "class ReplayBuffer:\n",
    "    \"\"\"Fixed-size buffer to store experience tuples.\"\"\"\n",
    "\n",
    "    def __init__(self, action_size, buffer_size, batch_size, seed):\n",
    "        \"\"\"Initialize a ReplayBuffer object.\n",
    "        Params\n",
    "        ======\n",
    "            action_size (int): dimension of each action\n",
    "            buffer_size (int): maximum size of buffer\n",
    "            batch_size (int): size of each training batch\n",
    "            seed (int): random seed\n",
    "        \"\"\"\n",
    "        self.action_size = action_size\n",
    "        self.memory = deque(maxlen=buffer_size)  \n",
    "        self.batch_size = batch_size\n",
    "        self.experience = namedtuple(\"Experience\", field_names=[\"state\", \"action\", \"reward\", \"next_state\", \"done\"])\n",
    "        self.seed = random.seed(seed)\n",
    "    \n",
    "    def add(self, state, action, reward, next_state, done):\n",
    "        \"\"\"Add a new experience to memory.\"\"\"\n",
    "        e = self.experience(state, action, reward, next_state, done)\n",
    "        self.memory.append(e)\n",
    "    \n",
    "    def sample(self):\n",
    "        \"\"\"Randomly sample a batch of experiences from memory.\"\"\"\n",
    "        experiences = random.sample(self.memory, k=self.batch_size)\n",
    "\n",
    "        states = torch.from_numpy(np.vstack([e.state for e in experiences if e is not None])).float().to(device)\n",
    "        actions = torch.from_numpy(np.vstack([e.action for e in experiences if e is not None])).float().to(device)\n",
    "        rewards = torch.from_numpy(np.vstack([e.reward for e in experiences if e is not None])).float().to(device)\n",
    "        next_states = torch.from_numpy(np.vstack([e.next_state for e in experiences if e is not None])).float().to(device)\n",
    "        dones = torch.from_numpy(np.vstack([e.done for e in experiences if e is not None]).astype(np.uint8)).float().to(device)\n",
    "  \n",
    "        return (states, actions, rewards, next_states, dones)\n",
    "\n",
    "    def __len__(self):\n",
    "        \"\"\"Return the current size of internal memory.\"\"\"\n",
    "        return len(self.memory)\n",
    "    \n",
    "    \n",
    "class OUNoise:\n",
    "    \"\"\"Ornstein-Uhlenbeck process.\"\"\"\n",
    "\n",
    "    def __init__(self, size, seed, mu=0., theta=0.15, sigma=0.2):\n",
    "        \"\"\"Initialize parameters and noise process.\"\"\"\n",
    "        self.size = size        \n",
    "        self.mu = mu * np.ones(size)\n",
    "        self.theta = theta\n",
    "        self.sigma = sigma        \n",
    "        self.seed = random.seed(seed)\n",
    "        self.reset()\n",
    "\n",
    "    def reset(self):\n",
    "        \"\"\"Reset the internal state (= noise) to mean (mu).\"\"\"\n",
    "        self.state = copy.copy(self.mu)\n",
    "\n",
    "    def sample(self):\n",
    "        \"\"\"Update internal state and return it as a noise sample.\"\"\"\n",
    "        x = self.state        \n",
    "        dx = self.theta * (self.mu - x) + self.sigma * np.random.standard_normal(self.size)\n",
    "        self.state = x + dx\n",
    "        return self.state"
   ]
  },
  {
   "cell_type": "code",
   "execution_count": 8,
   "metadata": {},
   "outputs": [],
   "source": [
    "class MADDPGController():\n",
    "    \n",
    "    def __init__(self, state_size, action_size, seed, hparams):\n",
    "        self.seed = random.seed(seed)\n",
    "        self.state_size = state_size \n",
    "        self.action_size = action_size \n",
    "        self.hparams = hparams \n",
    "        \n",
    "        self.act0 = np.zeros(self.action_size)\n",
    "        self.act1 = np.zeros(self.action_size)\n",
    "        self.agents = [Agent(state_size, action_size, seed, hparams, identity) for identity in range(0,2)]\n",
    "        \n",
    "        \n",
    "    def act(self, states):\n",
    "        \n",
    "        act0 = self.agents[0].act(states[0])\n",
    "        act1 = self.agents[1].act(states[1])\n",
    "        \n",
    "        \n",
    "        return [act0, act1]\n",
    "    \n",
    "        \n",
    "    def step(self, states, actions, rewards, next_states, dones, ep):\n",
    "        for i, agent in enumerate(self.agents):\n",
    "            agent.step(states[i], actions[i], rewards[i], next_states[i], dones[i], ep)\n",
    "        \n",
    "                    \n",
    "    def reset(self):\n",
    "        for agent in self.agents:\n",
    "            agent.reset()\n",
    "            \n",
    "    def print_models(self):\n",
    "        for agent in self.agents:\n",
    "            agent.print_models()\n",
    "            \n",
    "    def save_models(self):\n",
    "        for agent in self.agents:\n",
    "            agent.save_models()\n",
    "                \n",
    "        \n",
    "                "
   ]
  },
  {
   "cell_type": "markdown",
   "metadata": {},
   "source": [
    "### 5. Model structure and hyperparameters\n",
    "\n",
    "The model structure and hyperparameters are as follows:"
   ]
  },
  {
   "cell_type": "code",
   "execution_count": 9,
   "metadata": {},
   "outputs": [],
   "source": [
    "agent = MADDPGController(state_size, action_size, 42, hyperparameters)"
   ]
  },
  {
   "cell_type": "code",
   "execution_count": 10,
   "metadata": {},
   "outputs": [
    {
     "name": "stdout",
     "output_type": "stream",
     "text": [
      "Agent  0   Actor(\n",
      "  (fc1): Linear(in_features=24, out_features=128, bias=True)\n",
      "  (bn): BatchNorm1d(128, eps=1e-05, momentum=0.1, affine=True, track_running_stats=True)\n",
      "  (fc2): Linear(in_features=128, out_features=256, bias=True)\n",
      "  (fc3): Linear(in_features=256, out_features=2, bias=True)\n",
      ")\n",
      "Agent  0   Critic(\n",
      "  (fc1): Linear(in_features=24, out_features=128, bias=True)\n",
      "  (bn): BatchNorm1d(128, eps=1e-05, momentum=0.1, affine=True, track_running_stats=True)\n",
      "  (fc2): Linear(in_features=130, out_features=128, bias=True)\n",
      "  (fc3): Linear(in_features=128, out_features=1, bias=True)\n",
      ")\n",
      "Agent  1   Actor(\n",
      "  (fc1): Linear(in_features=24, out_features=128, bias=True)\n",
      "  (bn): BatchNorm1d(128, eps=1e-05, momentum=0.1, affine=True, track_running_stats=True)\n",
      "  (fc2): Linear(in_features=128, out_features=256, bias=True)\n",
      "  (fc3): Linear(in_features=256, out_features=2, bias=True)\n",
      ")\n",
      "Agent  1   Critic(\n",
      "  (fc1): Linear(in_features=24, out_features=128, bias=True)\n",
      "  (bn): BatchNorm1d(128, eps=1e-05, momentum=0.1, affine=True, track_running_stats=True)\n",
      "  (fc2): Linear(in_features=130, out_features=128, bias=True)\n",
      "  (fc3): Linear(in_features=128, out_features=1, bias=True)\n",
      ")\n"
     ]
    }
   ],
   "source": [
    "agent.print_models()"
   ]
  },
  {
   "cell_type": "markdown",
   "metadata": {},
   "source": [
    "Hyperparameters are as follows: "
   ]
  },
  {
   "cell_type": "code",
   "execution_count": 11,
   "metadata": {},
   "outputs": [
    {
     "data": {
      "text/plain": [
       "{'buffer_size': 100000,\n",
       " 'batch_size': 128,\n",
       " 'gamma': 0.99,\n",
       " 'tau': 0.001,\n",
       " 'lr_actor': 0.0002,\n",
       " 'lr_critic': 0.0002,\n",
       " 'weight_decay': 0,\n",
       " 'epsilon': 1,\n",
       " 'epsilon_decay': 0.99}"
      ]
     },
     "execution_count": 11,
     "metadata": {},
     "output_type": "execute_result"
    }
   ],
   "source": [
    "agent.hparams"
   ]
  },
  {
   "cell_type": "markdown",
   "metadata": {},
   "source": [
    "### 6. Training the model"
   ]
  },
  {
   "cell_type": "code",
   "execution_count": 13,
   "metadata": {},
   "outputs": [],
   "source": [
    "def train(episodes=10000, decision_boundary=1000):\n",
    "    \n",
    "    \n",
    "    np.random.seed(42)\n",
    "    torch.manual_seed(42)\n",
    "    \n",
    "    scores_deque = deque(maxlen=100)\n",
    "    all_scores = []\n",
    "    all_avg_score = []\n",
    "    break_idx = episodes\n",
    "    \n",
    "    for idx in range(episodes):\n",
    "        states = env.reset(train_mode=True)[brain_name].vector_observations\n",
    "        agent.reset()\n",
    "        scores = np.zeros(2)\n",
    "        \n",
    "        for _ in range(decision_boundary):\n",
    "            \n",
    "            if idx <= 100: #Get some random info to train with first \n",
    "                act0 = np.random.randn(action_size) # select an action (for each agent)\n",
    "                act0 = np.clip(act0, -1, 1)\n",
    "                \n",
    "                act1 = np.random.randn(action_size)\n",
    "                act1 = np.clip(act1, -1, 1)\n",
    "                \n",
    "                actions = [act0, act1]\n",
    "                \n",
    "            else:\n",
    "                actions = agent.act(states)\n",
    "            \n",
    "            env_info = env.step(actions)[brain_name]  \n",
    "            next_states = env_info.vector_observations  \n",
    "            rewards = env_info.rewards                         \n",
    "            dones = env_info.local_done \n",
    "            scores += rewards\n",
    "            agent.step(states, actions, rewards, next_states, dones, idx)\n",
    "            states = next_states \n",
    "            if np.any(dones):\n",
    "                break\n",
    "                \n",
    "        score = np.max(scores)\n",
    "        scores_deque.append(score)\n",
    "        all_scores.append(score)\n",
    "        all_avg_score.append(np.mean(scores_deque))\n",
    "        print('\\rEpisode {}\\tAverage Score: {}\\tCurrent Score: {}'.format(idx, np.mean(scores_deque), score), end=\"\")\n",
    "        \n",
    "        if (idx > 100) and (np.mean(scores_deque) >=0.5):\n",
    "            if break_idx == episodes:\n",
    "                print('\\n\\nEnvirontment solved. Episode {}\\tAverage Score: {}\\tCurrent Score: {}\\n'.format(idx-100, np.mean(scores_deque), score))\n",
    "                agent.save_models()\n",
    "                break_idx = idx\n",
    "                \n",
    "        if idx >= break_idx + 200: #Just to see what happens after we hit the goal\n",
    "            break\n",
    "    \n",
    "    return all_scores, all_avg_score\n",
    "        \n",
    "            "
   ]
  },
  {
   "cell_type": "code",
   "execution_count": 14,
   "metadata": {},
   "outputs": [
    {
     "name": "stdout",
     "output_type": "stream",
     "text": [
      "Episode 1774\tAverage Score: 0.5069000076130032\tCurrent Score: 0.8000000119209295862\n",
      "\n",
      "Environtment solved. Episode 1674\tAverage Score: 0.5069000076130032\tCurrent Score: 0.800000011920929\n",
      "\n",
      "Episode 1974\tAverage Score: 1.3491000201553107\tCurrent Score: 0.30000000447034836"
     ]
    }
   ],
   "source": [
    "scores, avgs = train()"
   ]
  },
  {
   "cell_type": "markdown",
   "metadata": {},
   "source": [
    "### 7. Plotting scores and mean rewards "
   ]
  },
  {
   "cell_type": "code",
   "execution_count": 19,
   "metadata": {},
   "outputs": [
    {
     "data": {
      "image/png": "[encoded data removed]",
      "text/plain": [
       "<matplotlib.figure.Figure at 0x7f3798aee9b0>"
      ]
     },
     "metadata": {
      "needs_background": "light"
     },
     "output_type": "display_data"
    }
   ],
   "source": [
    "import matplotlib.pyplot as plt\n",
    "%matplotlib inline\n",
    "\n",
    "fig = plt.figure(figsize=(10,10))\n",
    "ax = fig.add_subplot(111)\n",
    "plt.plot(np.arange(1, len(scores)+1), scores, label='score')\n",
    "plt.plot(np.arange(1, len(scores)+1), avgs, c='y', label='avg score - 100 episodes')\n",
    "plt.ylabel('Score')\n",
    "plt.xlabel('Episode')\n",
    "plt.grid(True)\n",
    "plt.legend(loc='upper left')\n",
    "plt.savefig('rewards.png')\n",
    "plt.show()"
   ]
  },
  {
   "cell_type": "markdown",
   "metadata": {},
   "source": [
    "### 8. Ideas for future improvement \n",
    "\n",
    "For future implementations, I would like to:\n",
    "1. Implement MADDPG with a single controller which can view the entire state space instead of a smaller view controller for each agent \n",
    "2. Implement, like in the benchmark solutoin, a single actor network instead of individual actor networks for each agent \n",
    "3. Dynamic hyperparameter optimization to see how different seeds and other parameters would affect the model "
   ]
  },
  {
   "cell_type": "code",
   "execution_count": null,
   "metadata": {},
   "outputs": [],
   "source": []
  }
 ],
 "metadata": {
  "kernelspec": {
   "display_name": "Python 3",
   "language": "python",
   "name": "python3"
  },
  "language_info": {
   "codemirror_mode": {
    "name": "ipython",
    "version": 3
   },
   "file_extension": ".py",
   "mimetype": "text/x-python",
   "name": "python",
   "nbconvert_exporter": "python",
   "pygments_lexer": "ipython3",
   "version": "3.6.3"
  }
 },
 "nbformat": 4,
 "nbformat_minor": 2
}
